{
 "cells": [
  {
   "cell_type": "code",
   "execution_count": 1,
   "id": "d26e8131",
   "metadata": {},
   "outputs": [],
   "source": [
    "\n",
    "bool isEven(int n){\n",
    "    return (n%2)==0;\n",
    "}"
   ]
  },
  {
   "cell_type": "code",
   "execution_count": 10,
   "id": "5b9ddb8f",
   "metadata": {},
   "outputs": [
    {
     "name": "stdout",
     "output_type": "stream",
     "text": [
      "NO"
     ]
    }
   ],
   "source": [
    "cout << (isEven(1) ? \"YES\" : \"NO\");"
   ]
  },
  {
   "cell_type": "code",
   "execution_count": 5,
   "id": "3ec4dccb",
   "metadata": {},
   "outputs": [
    {
     "name": "stdout",
     "output_type": "stream",
     "text": [
      "Hello\n"
     ]
    }
   ],
   "source": [
    "cout << \"Hello\" << endl;"
   ]
  },
  {
   "cell_type": "code",
   "execution_count": null,
   "id": "4bd9a208",
   "metadata": {},
   "outputs": [],
   "source": [
    "using namespace std;"
   ]
  },
  {
   "cell_type": "code",
   "execution_count": 6,
   "id": "a115429e",
   "metadata": {},
   "outputs": [
    {
     "name": "stdout",
     "output_type": "stream",
     "text": [
      "Hello\n"
     ]
    }
   ],
   "source": [
    "cout << \"Hello\" << endl;"
   ]
  },
  {
   "cell_type": "code",
   "execution_count": 3,
   "id": "e34aefcc",
   "metadata": {},
   "outputs": [
    {
     "name": "stdout",
     "output_type": "stream",
     "text": [
      "Hello There!!!\n"
     ]
    }
   ],
   "source": [
    "#include <iostream>\n",
    "using namespace std;\n",
    "cout << \"Hello There!!!\\n\";"
   ]
  },
  {
   "cell_type": "code",
   "execution_count": null,
   "id": "4bf3bb2a",
   "metadata": {},
   "outputs": [],
   "source": []
  }
 ],
 "metadata": {
  "kernelspec": {
   "display_name": "C++14",
   "language": "C++14",
   "name": "xcpp14"
  },
  "language_info": {
   "codemirror_mode": "text/x-c++src",
   "file_extension": ".cpp",
   "mimetype": "text/x-c++src",
   "name": "c++",
   "version": "14"
  }
 },
 "nbformat": 4,
 "nbformat_minor": 5
}
